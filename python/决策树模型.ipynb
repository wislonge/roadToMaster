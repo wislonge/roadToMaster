{
 "cells": [
  {
   "cell_type": "code",
   "execution_count": 13,
   "metadata": {},
   "outputs": [
    {
     "name": "stdout",
     "output_type": "stream",
     "text": [
      "[Getting data:]####[Getting data:][Getting data:]"
     ]
    }
   ],
   "source": [
    "\n",
    "import tushare as ts\n",
    "import pandas as pd\n",
    "#build X and estimate y \n",
    "dataTrain=ts.get_h_data('601006', start='2017-06-01', end='2018-06-01').dropna(axis=0, how='any') #两个日期之间的前复权数据\n",
    "dataTest=ts.get_h_data('601006', start='2018-11-01', end='2018-12-23').dropna(axis=0, how='any') #两个日期之间的前复权数据\n",
    "dataTest2=ts.get_h_data('002419', start='2018-12-01', end='2018-12-23').dropna(axis=0, how='any') #两个日期之间的前复权数据\n",
    "\n"
   ]
  },
  {
   "cell_type": "code",
   "execution_count": 5,
   "metadata": {},
   "outputs": [
    {
     "name": "stdout",
     "output_type": "stream",
     "text": [
      "(             open  high  close    low      volume        amount\n",
      "date                                                           \n",
      "2018-06-01  38.12  38.4  37.87  37.72  24488663.0  1.281258e+09,              open   high  close   low      volume       amount\n",
      "date                                                          \n",
      "2018-12-21  38.09  38.25  37.92  37.3  25844948.0  973696354.0,              open   high  close    low     volume      amount\n",
      "date                                                         \n",
      "2018-12-21  11.11  11.14  10.96  10.89  2617479.0  28784492.0)\n"
     ]
    }
   ],
   "source": [
    "print(dataTrain.head(1),dataTest.head(1),\n",
    "dataTest2.head(1))\n"
   ]
  },
  {
   "cell_type": "code",
   "execution_count": null,
   "metadata": {},
   "outputs": [],
   "source": [
    "def preProcess(frame):\n",
    "    "
   ]
  },
  {
   "cell_type": "code",
   "execution_count": 3,
   "metadata": {},
   "outputs": [
    {
     "name": "stdout",
     "output_type": "stream",
     "text": [
      "[3.7419354838709618, 4.1450777202072464, 5.5118110236220375, 4.1450777202072464, 3.8759689922480467, 5.8441558441558517, 5.1612903225806583, 4.8906048906049104, 1.8750000000000044, 2.0025031289111483, 2.6448362720403074, 3.8216560509554132, 3.1645569620253111, 2.130325814536338, 2.0025031289111483, 0.49382716049384268, 0.61957868649316072, 2.1383647798741912, 1.1207970112079746, 0.74441687344910523, 0.37453183520599342, 0.25445292620864812, 0.64184852374840062, 0.0, 0.92961487383798058, 0.52910052910053462, 0.26385224274405594, 2.564102564102555, 4.2524005486968441, 3.4013605442176909, 4.9723756906077332, 5.9474412171507618, 5.2197802197802234, 3.6437246963562764, 5.510752688172027, 5.6803170409511106, 6.9148936170212671, 8.4791386271870994, 10.107816711590289, 10.3494623655914, 9.0305444887118327, 8.1471747700394346, 9.1863517060367439, 9.3175853018372621, 6.1146496815286611, 5.296343001261028, 5.0251256281407031, 4.2394014962593429, 2.8290282902828867, 4.4334975369458185, 4.6913580246913611, 3.037667071688932, 2.0457280385078214, 3.9903264812575667, 4.4578313253011981, 4.9219687875150075, 5.8041112454655375, 5.9322033898305149, 4.9160671462829653, 3.6729857819905343, 4.0428061831153439, 4.4152744630071572, 3.6729857819905343, 4.5560747663551338, 6.6820276497695952, 6.3145809414465903, 7.4245939675174011, 8.1775700934579412, 10.765550239234445, 9.4562647754137039, 11.884753901560629, 14.642857142857157, 11.846689895470398, 7.2383073496659289, 6.1742006615215006, 5.7080131723381111, 7.5977653631285058, 7.4776785714285809, 8.690744920993243, 4.2207792207792361, 4.1081081081081106, 0.53248136315227068, 2.6086956521739202, 1.5053763440860068, 0.64516129032257119, 0.64516129032257119, 1.4285714285714457, 4.1760722347629953, 3.94144144144144, 4.0586245772266105, 4.1760722347629953, 3.0133928571428603, 2.7839643652561197, 1.7640573318632891, 0.88300220750552327, 1.4476614699331813, 0.57870370370369795, 0.70505287896593938, 0.46893317702227932, 1.1918951132300348, 1.0804321728691502, 1.4457831325301207, 1.5681544028950611, 0.36363636363636598, 0.73439412484701538, 0.61124694376528677, 2.2222222222222143, 3.0902348578492056, 3.3457249070631967, 4.0892193308550207, 4.0892193308550207, 3.1941031941031817, 2.941176470588247, 3.0674846625766916, 2.5641025641025772, 1.9417475728155331, 1.9417475728155331, 4.933814681107096, 4.6818727490996359, 6.9938650306748507, 7.1253071253071232, 7.2570725707256978, 6.8627450980392135, 6.6014669926650393, 5.1869722557298159, 5.1869722557298159, 4.1816009557945177, 0.11600928074246841, 0.70339976553341899, 0.24096385542167198, 0.24096385542167198, 2.7261462205699916, 1.344743276283622, 1.703163017031617, 1.937046004842613, 4.1871921182266236, 3.5409035409035505, 5.3921568627451011, 6.7567567567567322, 7.1516646115906246, 7.0197044334975311, 5.8465286236297098, 6.2347188264058717, 3.9473684210526327, 3.3293697978596937, 3.2066508313539188, 3.6992840095465329, 0.69524913093856888, 0.11600928074246841, 0.35460992907800915, 0.83135391923991886, 0.1179245283018826, 0.23781212841853527, 1.5757575757575859, 1.8226002430133725, 1.6990291262136026, 0.72115384615385469, 0.12062726176118588, 0.12062726176118588, 1.2269938650306678, 2.6119402985074647, 1.4760147601475815, 2.0935960591133007, 1.344743276283622, 0.85158150851578629, 1.9680196801967753, 2.2194821208384674, 1.8427518427518219, 1.8404907975460238, 3.0750307503075058, 3.1980319803198043, 2.7912621359223344, 2.9161603888213872, 3.5236938031591558, 4.1564792176039145, 5.049261083743839, 4.6625766871165597, 3.7712895377128852, 3.0193236714975757, 1.7899761336515274, 3.8277511961722466, 3.3333333333333215, 3.2104637336504149, 3.8277511961722466, 4.5783132530120341, 4.4524669073405354, 5.5961070559610526, 5.7247259439707543, 5.7247259439707543, 4.2016806722688926]\n"
     ]
    }
   ],
   "source": [
    "def estimateFunc(frame1,time):\n",
    "    ret=[]\n",
    "    frame=pd.DataFrame(frame1)\n",
    "    for i in range(frame['open'].count()-time):\n",
    "        esti=((frame[i:(i+time)]/frame['close'][i])['high'].max()-1)*100\n",
    "        ret.append(esti)\n",
    "    return ret\n",
    "\n",
    "shortExp=\n",
    "middleExp=0\n",
    "longExp=0\n",
    "print(shortExp)"
   ]
  },
  {
   "cell_type": "code",
   "execution_count": 14,
   "metadata": {},
   "outputs": [
    {
     "data": {
      "text/plain": [
       "DecisionTreeRegressor(criterion='mse', max_depth=None, max_features=None,\n",
       "           max_leaf_nodes=None, min_impurity_decrease=0.0,\n",
       "           min_impurity_split=None, min_samples_leaf=1,\n",
       "           min_samples_split=2, min_weight_fraction_leaf=0.0,\n",
       "           presort=False, random_state=1, splitter='best')"
      ]
     },
     "execution_count": 14,
     "metadata": {},
     "output_type": "execute_result"
    }
   ],
   "source": [
    "#here we need a ML model to estimate recommend factor\n",
    "#with high-low-amount-, but we need category stocks first and train model separately\n",
    "# test a descion tree model\n",
    "from sklearn.tree import DecisionTreeRegressor\n",
    "test_model = DecisionTreeRegressor(random_state=1)\n",
    "test_model.fit(dataTrain.head(190),estimateFunc(dataTrain.head(200),10))\n",
    "test_model.fit(dataTest.head(20),estimateFunc(dataTrain.head(30),10))\n",
    "\n",
    "\n"
   ]
  },
  {
   "cell_type": "code",
   "execution_count": 17,
   "metadata": {},
   "outputs": [
    {
     "name": "stdout",
     "output_type": "stream",
     "text": [
      "  (0, 0)\t1\n",
      "  (0, 20)\t1\n",
      "  (0, 24)\t1\n",
      "  (0, 26)\t1\n",
      "  (0, 27)\t1\n",
      "  (0, 28)\t1\n",
      "  (0, 29)\t1\n",
      "[ 3.74193548]\n",
      "[3.7419354838709618]\n"
     ]
    }
   ],
   "source": [
    "print(test_model.decision_path(dataTest.head(1)))\n",
    "print(test_model.predict(dataTest.head(1)))\n",
    "print(estimateFunc(dataTrain.head(11),10))"
   ]
  },
  {
   "cell_type": "code",
   "execution_count": 16,
   "metadata": {},
   "outputs": [
    {
     "name": "stdout",
     "output_type": "stream",
     "text": [
      "actual data\n",
      "[3.7419354838709618, 4.1450777202072464, 5.5118110236220375, 4.1450777202072464, 3.8759689922480467, 5.8441558441558517, 5.1612903225806583, 4.8906048906049104, 1.8750000000000044, 2.0025031289111483]\n",
      "predict data\n",
      "[ 0.49382716  0.49382716  0.74441687  0.49382716  0.49382716  0.49382716\n",
      "  0.49382716  3.87596899  5.16129032  4.14507772]\n"
     ]
    }
   ],
   "source": [
    "#descion tree predict result\n",
    "import numpy as np\n",
    "print(\"actual data\")\n",
    "y1=estimateFunc(dataTrain.head(20),10)\n",
    "print(y1)\n",
    "print(\"predict data\")\n",
    "y=dataTrain.head(10)\n",
    "y2=test_model.predict(y)\n",
    "print(y2)\n",
    "y3=dataTest['high'].head(10)\n",
    "x=np.arange(0, 10)\n"
   ]
  },
  {
   "cell_type": "code",
   "execution_count": 7,
   "metadata": {},
   "outputs": [
    {
     "ename": "ValueError",
     "evalue": "x and y must have same first dimension",
     "output_type": "error",
     "traceback": [
      "\u001b[0;31m---------------------------------------------------------------------------\u001b[0m",
      "\u001b[0;31mValueError\u001b[0m                                Traceback (most recent call last)",
      "\u001b[0;32m<ipython-input-7-23e5d40ac406>\u001b[0m in \u001b[0;36m<module>\u001b[0;34m()\u001b[0m\n\u001b[1;32m      3\u001b[0m \u001b[0mplt\u001b[0m\u001b[0;34m.\u001b[0m\u001b[0mfigure\u001b[0m\u001b[0;34m(\u001b[0m\u001b[0;36m1\u001b[0m\u001b[0;34m)\u001b[0m\u001b[0;34m\u001b[0m\u001b[0m\n\u001b[1;32m      4\u001b[0m \u001b[0mplt\u001b[0m\u001b[0;34m.\u001b[0m\u001b[0msubplot\u001b[0m\u001b[0;34m(\u001b[0m\u001b[0;36m311\u001b[0m\u001b[0;34m)\u001b[0m\u001b[0;34m\u001b[0m\u001b[0m\n\u001b[0;32m----> 5\u001b[0;31m \u001b[0mplt\u001b[0m\u001b[0;34m.\u001b[0m\u001b[0mplot\u001b[0m\u001b[0;34m(\u001b[0m\u001b[0mx\u001b[0m\u001b[0;34m,\u001b[0m \u001b[0my1\u001b[0m\u001b[0;34m)\u001b[0m\u001b[0;34m\u001b[0m\u001b[0m\n\u001b[0m\u001b[1;32m      6\u001b[0m \u001b[0mplt\u001b[0m\u001b[0;34m.\u001b[0m\u001b[0msubplot\u001b[0m\u001b[0;34m(\u001b[0m\u001b[0;36m312\u001b[0m\u001b[0;34m)\u001b[0m\u001b[0;34m\u001b[0m\u001b[0m\n\u001b[1;32m      7\u001b[0m \u001b[0mplt\u001b[0m\u001b[0;34m.\u001b[0m\u001b[0mplot\u001b[0m\u001b[0;34m(\u001b[0m\u001b[0mx\u001b[0m\u001b[0;34m,\u001b[0m \u001b[0my2\u001b[0m\u001b[0;34m)\u001b[0m\u001b[0;34m\u001b[0m\u001b[0m\n",
      "\u001b[0;32m/System/Library/Frameworks/Python.framework/Versions/2.7/Extras/lib/python/matplotlib/pyplot.pyc\u001b[0m in \u001b[0;36mplot\u001b[0;34m(*args, **kwargs)\u001b[0m\n\u001b[1;32m   2985\u001b[0m         \u001b[0max\u001b[0m\u001b[0;34m.\u001b[0m\u001b[0mhold\u001b[0m\u001b[0;34m(\u001b[0m\u001b[0mhold\u001b[0m\u001b[0;34m)\u001b[0m\u001b[0;34m\u001b[0m\u001b[0m\n\u001b[1;32m   2986\u001b[0m     \u001b[0;32mtry\u001b[0m\u001b[0;34m:\u001b[0m\u001b[0;34m\u001b[0m\u001b[0m\n\u001b[0;32m-> 2987\u001b[0;31m         \u001b[0mret\u001b[0m \u001b[0;34m=\u001b[0m \u001b[0max\u001b[0m\u001b[0;34m.\u001b[0m\u001b[0mplot\u001b[0m\u001b[0;34m(\u001b[0m\u001b[0;34m*\u001b[0m\u001b[0margs\u001b[0m\u001b[0;34m,\u001b[0m \u001b[0;34m**\u001b[0m\u001b[0mkwargs\u001b[0m\u001b[0;34m)\u001b[0m\u001b[0;34m\u001b[0m\u001b[0m\n\u001b[0m\u001b[1;32m   2988\u001b[0m         \u001b[0mdraw_if_interactive\u001b[0m\u001b[0;34m(\u001b[0m\u001b[0;34m)\u001b[0m\u001b[0;34m\u001b[0m\u001b[0m\n\u001b[1;32m   2989\u001b[0m     \u001b[0;32mfinally\u001b[0m\u001b[0;34m:\u001b[0m\u001b[0;34m\u001b[0m\u001b[0m\n",
      "\u001b[0;32m/System/Library/Frameworks/Python.framework/Versions/2.7/Extras/lib/python/matplotlib/axes.pyc\u001b[0m in \u001b[0;36mplot\u001b[0;34m(self, *args, **kwargs)\u001b[0m\n\u001b[1;32m   4135\u001b[0m         \u001b[0mlines\u001b[0m \u001b[0;34m=\u001b[0m \u001b[0;34m[\u001b[0m\u001b[0;34m]\u001b[0m\u001b[0;34m\u001b[0m\u001b[0m\n\u001b[1;32m   4136\u001b[0m \u001b[0;34m\u001b[0m\u001b[0m\n\u001b[0;32m-> 4137\u001b[0;31m         \u001b[0;32mfor\u001b[0m \u001b[0mline\u001b[0m \u001b[0;32min\u001b[0m \u001b[0mself\u001b[0m\u001b[0;34m.\u001b[0m\u001b[0m_get_lines\u001b[0m\u001b[0;34m(\u001b[0m\u001b[0;34m*\u001b[0m\u001b[0margs\u001b[0m\u001b[0;34m,\u001b[0m \u001b[0;34m**\u001b[0m\u001b[0mkwargs\u001b[0m\u001b[0;34m)\u001b[0m\u001b[0;34m:\u001b[0m\u001b[0;34m\u001b[0m\u001b[0m\n\u001b[0m\u001b[1;32m   4138\u001b[0m             \u001b[0mself\u001b[0m\u001b[0;34m.\u001b[0m\u001b[0madd_line\u001b[0m\u001b[0;34m(\u001b[0m\u001b[0mline\u001b[0m\u001b[0;34m)\u001b[0m\u001b[0;34m\u001b[0m\u001b[0m\n\u001b[1;32m   4139\u001b[0m             \u001b[0mlines\u001b[0m\u001b[0;34m.\u001b[0m\u001b[0mappend\u001b[0m\u001b[0;34m(\u001b[0m\u001b[0mline\u001b[0m\u001b[0;34m)\u001b[0m\u001b[0;34m\u001b[0m\u001b[0m\n",
      "\u001b[0;32m/System/Library/Frameworks/Python.framework/Versions/2.7/Extras/lib/python/matplotlib/axes.pyc\u001b[0m in \u001b[0;36m_grab_next_args\u001b[0;34m(self, *args, **kwargs)\u001b[0m\n\u001b[1;32m    315\u001b[0m                 \u001b[0;32mreturn\u001b[0m\u001b[0;34m\u001b[0m\u001b[0m\n\u001b[1;32m    316\u001b[0m             \u001b[0;32mif\u001b[0m \u001b[0mlen\u001b[0m\u001b[0;34m(\u001b[0m\u001b[0mremaining\u001b[0m\u001b[0;34m)\u001b[0m \u001b[0;34m<=\u001b[0m \u001b[0;36m3\u001b[0m\u001b[0;34m:\u001b[0m\u001b[0;34m\u001b[0m\u001b[0m\n\u001b[0;32m--> 317\u001b[0;31m                 \u001b[0;32mfor\u001b[0m \u001b[0mseg\u001b[0m \u001b[0;32min\u001b[0m \u001b[0mself\u001b[0m\u001b[0;34m.\u001b[0m\u001b[0m_plot_args\u001b[0m\u001b[0;34m(\u001b[0m\u001b[0mremaining\u001b[0m\u001b[0;34m,\u001b[0m \u001b[0mkwargs\u001b[0m\u001b[0;34m)\u001b[0m\u001b[0;34m:\u001b[0m\u001b[0;34m\u001b[0m\u001b[0m\n\u001b[0m\u001b[1;32m    318\u001b[0m                     \u001b[0;32myield\u001b[0m \u001b[0mseg\u001b[0m\u001b[0;34m\u001b[0m\u001b[0m\n\u001b[1;32m    319\u001b[0m                 \u001b[0;32mreturn\u001b[0m\u001b[0;34m\u001b[0m\u001b[0m\n",
      "\u001b[0;32m/System/Library/Frameworks/Python.framework/Versions/2.7/Extras/lib/python/matplotlib/axes.pyc\u001b[0m in \u001b[0;36m_plot_args\u001b[0;34m(self, tup, kwargs)\u001b[0m\n\u001b[1;32m    293\u001b[0m             \u001b[0mx\u001b[0m \u001b[0;34m=\u001b[0m \u001b[0mnp\u001b[0m\u001b[0;34m.\u001b[0m\u001b[0marange\u001b[0m\u001b[0;34m(\u001b[0m\u001b[0my\u001b[0m\u001b[0;34m.\u001b[0m\u001b[0mshape\u001b[0m\u001b[0;34m[\u001b[0m\u001b[0;36m0\u001b[0m\u001b[0;34m]\u001b[0m\u001b[0;34m,\u001b[0m \u001b[0mdtype\u001b[0m\u001b[0;34m=\u001b[0m\u001b[0mfloat\u001b[0m\u001b[0;34m)\u001b[0m\u001b[0;34m\u001b[0m\u001b[0m\n\u001b[1;32m    294\u001b[0m \u001b[0;34m\u001b[0m\u001b[0m\n\u001b[0;32m--> 295\u001b[0;31m         \u001b[0mx\u001b[0m\u001b[0;34m,\u001b[0m \u001b[0my\u001b[0m \u001b[0;34m=\u001b[0m \u001b[0mself\u001b[0m\u001b[0;34m.\u001b[0m\u001b[0m_xy_from_xy\u001b[0m\u001b[0;34m(\u001b[0m\u001b[0mx\u001b[0m\u001b[0;34m,\u001b[0m \u001b[0my\u001b[0m\u001b[0;34m)\u001b[0m\u001b[0;34m\u001b[0m\u001b[0m\n\u001b[0m\u001b[1;32m    296\u001b[0m \u001b[0;34m\u001b[0m\u001b[0m\n\u001b[1;32m    297\u001b[0m         \u001b[0;32mif\u001b[0m \u001b[0mself\u001b[0m\u001b[0;34m.\u001b[0m\u001b[0mcommand\u001b[0m \u001b[0;34m==\u001b[0m \u001b[0;34m'plot'\u001b[0m\u001b[0;34m:\u001b[0m\u001b[0;34m\u001b[0m\u001b[0m\n",
      "\u001b[0;32m/System/Library/Frameworks/Python.framework/Versions/2.7/Extras/lib/python/matplotlib/axes.pyc\u001b[0m in \u001b[0;36m_xy_from_xy\u001b[0;34m(self, x, y)\u001b[0m\n\u001b[1;32m    235\u001b[0m         \u001b[0my\u001b[0m \u001b[0;34m=\u001b[0m \u001b[0mnp\u001b[0m\u001b[0;34m.\u001b[0m\u001b[0matleast_1d\u001b[0m\u001b[0;34m(\u001b[0m\u001b[0my\u001b[0m\u001b[0;34m)\u001b[0m\u001b[0;34m\u001b[0m\u001b[0m\n\u001b[1;32m    236\u001b[0m         \u001b[0;32mif\u001b[0m \u001b[0mx\u001b[0m\u001b[0;34m.\u001b[0m\u001b[0mshape\u001b[0m\u001b[0;34m[\u001b[0m\u001b[0;36m0\u001b[0m\u001b[0;34m]\u001b[0m \u001b[0;34m!=\u001b[0m \u001b[0my\u001b[0m\u001b[0;34m.\u001b[0m\u001b[0mshape\u001b[0m\u001b[0;34m[\u001b[0m\u001b[0;36m0\u001b[0m\u001b[0;34m]\u001b[0m\u001b[0;34m:\u001b[0m\u001b[0;34m\u001b[0m\u001b[0m\n\u001b[0;32m--> 237\u001b[0;31m             \u001b[0;32mraise\u001b[0m \u001b[0mValueError\u001b[0m\u001b[0;34m(\u001b[0m\u001b[0;34m\"x and y must have same first dimension\"\u001b[0m\u001b[0;34m)\u001b[0m\u001b[0;34m\u001b[0m\u001b[0m\n\u001b[0m\u001b[1;32m    238\u001b[0m         \u001b[0;32mif\u001b[0m \u001b[0mx\u001b[0m\u001b[0;34m.\u001b[0m\u001b[0mndim\u001b[0m \u001b[0;34m>\u001b[0m \u001b[0;36m2\u001b[0m \u001b[0;32mor\u001b[0m \u001b[0my\u001b[0m\u001b[0;34m.\u001b[0m\u001b[0mndim\u001b[0m \u001b[0;34m>\u001b[0m \u001b[0;36m2\u001b[0m\u001b[0;34m:\u001b[0m\u001b[0;34m\u001b[0m\u001b[0m\n\u001b[1;32m    239\u001b[0m             \u001b[0;32mraise\u001b[0m \u001b[0mValueError\u001b[0m\u001b[0;34m(\u001b[0m\u001b[0;34m\"x and y can be no greater than 2-D\"\u001b[0m\u001b[0;34m)\u001b[0m\u001b[0;34m\u001b[0m\u001b[0m\n",
      "\u001b[0;31mValueError\u001b[0m: x and y must have same first dimension"
     ]
    }
   ],
   "source": [
    "import matplotlib.pyplot as plt\n",
    "import numpy as np\n",
    "plt.figure(1)\n",
    "plt.subplot(311)\n",
    "plt.plot(x, y1)\n",
    "plt.subplot(312)\n",
    "plt.plot(x, y2)\n",
    "plt.subplot(313)\n",
    "plt.plot(x, y3)\n",
    "plt.show()\n"
   ]
  },
  {
   "cell_type": "code",
   "execution_count": null,
   "metadata": {},
   "outputs": [],
   "source": []
  },
  {
   "cell_type": "code",
   "execution_count": null,
   "metadata": {},
   "outputs": [],
   "source": []
  }
 ],
 "metadata": {
  "kernelspec": {
   "display_name": "Python 2",
   "language": "python",
   "name": "python2"
  },
  "language_info": {
   "codemirror_mode": {
    "name": "ipython",
    "version": 2
   },
   "file_extension": ".py",
   "mimetype": "text/x-python",
   "name": "python",
   "nbconvert_exporter": "python",
   "pygments_lexer": "ipython2",
   "version": "2.7.10"
  }
 },
 "nbformat": 4,
 "nbformat_minor": 2
}
