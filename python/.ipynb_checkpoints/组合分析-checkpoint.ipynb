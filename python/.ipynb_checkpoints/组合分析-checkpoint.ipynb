{
 "cells": [
  {
   "cell_type": "code",
   "execution_count": 1,
   "metadata": {},
   "outputs": [
    {
     "name": "stdout",
     "output_type": "stream",
     "text": [
      "[Getting data:]##[Getting data:]##"
     ]
    }
   ],
   "source": [
    "#get stock data from tushare\n",
    "import tushare as ts\n",
    "stocks=['300402','601606','300368']\n",
    "stockdata1=ts.get_h_data(stocks[1], start='2018-06-01', end='2018-12-01') #两个日期之间的前复权数据\n",
    "stockdata2=ts.get_h_data(stocks[2], start='2018-06-01', end='2018-12-01') #两个日期之间的前复权数据\n",
    "stockdata3=ts.get_h_data(stocks[0], start='2018-06-01', end='2018-12-01') #两个日期之间的前复权数据"
   ]
  },
  {
   "cell_type": "code",
   "execution_count": 2,
   "metadata": {},
   "outputs": [
    {
     "data": {
      "text/plain": [
       "0.7237929510232779"
      ]
     },
     "execution_count": 2,
     "metadata": {},
     "output_type": "execute_result"
    }
   ],
   "source": [
    "histdata1['amount'].head(100).corr(histdata2['amount'].head(100))"
   ]
  },
  {
   "cell_type": "code",
   "execution_count": 3,
   "metadata": {},
   "outputs": [],
   "source": [
    "def correlate(frame1,frame2):\n",
    "    d1=frame1['close'].head(100)-histdata2['open'].head(100)\n",
    "    d2=frame2['close'].head(100)-histdata2['open'].head(100)\n",
    "    return d1.corr(d2)"
   ]
  },
  {
   "cell_type": "code",
   "execution_count": null,
   "metadata": {},
   "outputs": [],
   "source": [
    "histdata1.std()\n",
    "histdata1.describe()"
   ]
  }
 ],
 "metadata": {
  "kernelspec": {
   "display_name": "Python 2",
   "language": "python",
   "name": "python2"
  },
  "language_info": {
   "codemirror_mode": {
    "name": "ipython",
    "version": 2
   },
   "file_extension": ".py",
   "mimetype": "text/x-python",
   "name": "python",
   "nbconvert_exporter": "python",
   "pygments_lexer": "ipython2",
   "version": "2.7.10"
  }
 },
 "nbformat": 4,
 "nbformat_minor": 2
}
